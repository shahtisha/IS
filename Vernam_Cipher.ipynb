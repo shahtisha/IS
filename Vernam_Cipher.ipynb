{
  "nbformat": 4,
  "nbformat_minor": 0,
  "metadata": {
    "colab": {
      "provenance": [],
      "authorship_tag": "ABX9TyNraeBins0wM+Ze0J81xb1/"
    },
    "kernelspec": {
      "name": "python3",
      "display_name": "Python 3"
    },
    "language_info": {
      "name": "python"
    }
  },
  "cells": [
    {
      "cell_type": "code",
      "source": [
        "def encrypt(text, key):\n",
        "  if len(text) != len(key):\n",
        "    raise ValueError(\"plaintext and key must be of the same length\")\n",
        "  CT = ''.join(chr(ord(p) ^ ord(k)) for p,k in zip(text, key))\n",
        "  return CT"
      ],
      "metadata": {
        "id": "1EyAmUAY05e9"
      },
      "execution_count": 19,
      "outputs": []
    },
    {
      "cell_type": "code",
      "source": [
        "PT = input(\"enter the plaintext:\")\n",
        "key = input(\"enter the key:\")\n",
        "print(\"cipher text is \", encrypt(PT, key))"
      ],
      "metadata": {
        "id": "9XdJCM_r5L6Q"
      },
      "execution_count": null,
      "outputs": []
    }
  ]
}