{
  "nbformat": 4,
  "nbformat_minor": 0,
  "metadata": {
    "colab": {
      "provenance": [],
      "authorship_tag": "ABX9TyPuKagpqun9qfurvYX06b3Q"
    },
    "kernelspec": {
      "name": "python3",
      "display_name": "Python 3"
    },
    "language_info": {
      "name": "python"
    }
  },
  "cells": [
    {
      "cell_type": "code",
      "source": [
        "import random\n",
        "def mod_exp(modulus, base, exponent):\n",
        "  res = 1\n",
        "  base = base % modulus\n",
        "  while exponent > 0:\n",
        "    if exponent % 2 == 1:\n",
        "      res = (res * base)%modulus\n",
        "    exponent = exponent // 2\n",
        "    base = (base * base) % modulus\n",
        "  return res\n",
        "def generate_keypair(p, g):\n",
        "  pvt_key = random.randint(1, p-1)\n",
        "  public_key = mod_exp(p, g, pvt_key)\n",
        "  return pvt_key, public_key\n",
        "def generate_shared_key(public_key, pvt_key, p):\n",
        "  shared_key = mod_exp(p, public_key, pvt_key)\n",
        "  return shared_key\n",
        "\n",
        "p = int(input(\"enter prime: \"))\n",
        "g = int(input(\"enter generator: \"))\n",
        "PvA, PuA = generate_keypair(p, g)\n",
        "print(\"person A's pvt key: \",PvA)\n",
        "print(\"person A's public key: \",PuA)\n",
        "PvB, PuB = generate_keypair(p, g)\n",
        "print(\"person B's pvt key: \",PvB)\n",
        "print(\"person B's public key: \",PuB)\n",
        "A = generate_shared_key(PuB, PvA, p)\n",
        "B = generate_shared_key(PuA, PvB, p)\n",
        "if A == B:\n",
        "  print(\"Success! shared key = \",A)\n",
        "else:\n",
        "  print(\"Failure\")"
      ],
      "metadata": {
        "colab": {
          "base_uri": "https://localhost:8080/"
        },
        "id": "W9PW_7VdQLZ6",
        "outputId": "2d886e12-db4c-4f98-90ee-320737de5941"
      },
      "execution_count": 38,
      "outputs": [
        {
          "output_type": "stream",
          "name": "stdout",
          "text": [
            "enter prime: 23\n",
            "enter generator: 5\n",
            "person A's pvt key:  17\n",
            "person A's public key:  15\n",
            "person B's pvt key:  5\n",
            "person B's public key:  20\n",
            "Success! shared key =  7\n"
          ]
        }
      ]
    }
  ]
}