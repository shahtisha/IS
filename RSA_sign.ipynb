{
  "nbformat": 4,
  "nbformat_minor": 0,
  "metadata": {
    "colab": {
      "provenance": [],
      "authorship_tag": "ABX9TyOtuDyxfMXfeQN6DhvX3LH4"
    },
    "kernelspec": {
      "name": "python3",
      "display_name": "Python 3"
    },
    "language_info": {
      "name": "python"
    }
  },
  "cells": [
    {
      "cell_type": "code",
      "source": [
        "import hashlib\n",
        "import sys\n",
        "\n",
        "def GCD(a, b):\n",
        "    if a == 0:\n",
        "        return b\n",
        "    return GCD(b % a, a)\n",
        "\n",
        "def mod_inverse(a, m):\n",
        "    m0, x0, x1 = m, 0, 1\n",
        "    while a > 1:\n",
        "        q = a // m\n",
        "        m, a = a % m, m\n",
        "        x0, x1 = x1 - q * x0, x0\n",
        "    return x1 + m0 if x1 < 0 else x1\n",
        "\n",
        "def generate_keypair(p, q):\n",
        "    n = p * q\n",
        "    phi = (p - 1) * (q - 1)\n",
        "    e = 2\n",
        "    while e < phi:\n",
        "        if GCD(e, phi) == 1:\n",
        "            break\n",
        "        else:\n",
        "            e += 1\n",
        "    d = mod_inverse(e, phi)\n",
        "    publickey = e\n",
        "    pvtkey = d\n",
        "    return publickey, pvtkey\n",
        "\n",
        "def sign(msg, pvtkey):\n",
        "    d = pvtkey\n",
        "    hashed_msg = int(hashlib.sha256(msg.encode()).hexdigest(), 16)\n",
        "    signature = pow(hashed_msg, d, sys.maxsize1)\n",
        "    return str(signature)\n",
        "\n",
        "text = input(\"Enter the msg: \")\n",
        "p = int(input(\"Enter the first prime num: \"))\n",
        "q = int(input(\"Enter the second prime num: \"))\n",
        "public, private = generate_keypair(p, q)\n",
        "print(\"(public key, private key) =\", (public, private))\n",
        "print(\"Digital Signature:\", sign(text, private))\n"
      ],
      "metadata": {
        "colab": {
          "base_uri": "https://localhost:8080/"
        },
        "id": "qY9q3bjPHhRd",
        "outputId": "36b256cd-37b3-47ab-f63b-e6a0d09c8ebf"
      },
      "execution_count": 35,
      "outputs": [
        {
          "output_type": "stream",
          "name": "stdout",
          "text": [
            "Enter the msg: Hello\n",
            "Enter the first prime num: 17\n",
            "Enter the second prime num: 19\n",
            "(public key, private key) = (5, 173)\n",
            "Digital Signature: 299713193650079212\n"
          ]
        }
      ]
    }
  ]
}