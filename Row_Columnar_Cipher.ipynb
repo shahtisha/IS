{
  "nbformat": 4,
  "nbformat_minor": 0,
  "metadata": {
    "colab": {
      "provenance": [],
      "authorship_tag": "ABX9TyMeeMRxEZL+TmxFwa+/a+ZL"
    },
    "kernelspec": {
      "name": "python3",
      "display_name": "Python 3"
    },
    "language_info": {
      "name": "python"
    }
  },
  "cells": [
    {
      "cell_type": "markdown",
      "source": [
        "Columnar Transposition Cipher"
      ],
      "metadata": {
        "id": "kN23e_uYx9pZ"
      }
    },
    {
      "cell_type": "code",
      "source": [
        "def encrypt(text, key):\n",
        "  key_order = sorted(range(len(key)), key=lambda k: key[k])\n",
        "  CT = ['']*len(key)\n",
        "  for col in key_order:\n",
        "    for row in range(0, len(text), len(key)):\n",
        "      index = row + col\n",
        "      if index < len(text):\n",
        "        CT[col] += text[index]\n",
        "  result = ''.join(CT)\n",
        "  return result"
      ],
      "metadata": {
        "id": "eiaWDHW5vawI"
      },
      "execution_count": 1,
      "outputs": []
    },
    {
      "cell_type": "code",
      "source": [
        "PT = input(\"enter the plaintext:\")\n",
        "key = input(\"enter the key:\")\n",
        "encrypted = encrypt(PT, key)\n",
        "print(\"encrypted text/ ciphertext is \",encrypted)"
      ],
      "metadata": {
        "colab": {
          "base_uri": "https://localhost:8080/"
        },
        "id": "EEB8d4okxLn-",
        "outputId": "b977ae9b-87c9-4bc8-bb5f-868fe334faba"
      },
      "execution_count": 2,
      "outputs": [
        {
          "output_type": "stream",
          "name": "stdout",
          "text": [
            "enter the plaintext:attack postponed until two am\n",
            "enter the key:4312567\n",
            "encrypted text/ ciphertext is  apelmtod ts tatuwcpnokot  nia\n"
          ]
        }
      ]
    },
    {
      "cell_type": "markdown",
      "source": [
        "Row Transposition Cipher"
      ],
      "metadata": {
        "id": "1SYOYQYZyD5U"
      }
    },
    {
      "cell_type": "code",
      "source": [
        "def encryption(text, key):\n",
        "  rows = -(-len(text) // len(key))\n",
        "  CT = ['']*rows\n",
        "  for i,char in enumerate(text):\n",
        "    CT[i % rows] += char\n",
        "  result = ''.join(CT)\n",
        "  return result"
      ],
      "metadata": {
        "id": "KKyw1GOJx5j7"
      },
      "execution_count": 3,
      "outputs": []
    },
    {
      "cell_type": "code",
      "source": [
        "PT = input(\"enter the plaintext: \")\n",
        "key = input(\"enter the key: \")\n",
        "encrypted = encryption(PT, key)\n",
        "print(\"ciphertext / encryptedtext is \", encrypted)"
      ],
      "metadata": {
        "colab": {
          "base_uri": "https://localhost:8080/"
        },
        "id": "O3pD03LxznPR",
        "outputId": "77cc4632-3014-4a18-f3b0-420cc58b8047"
      },
      "execution_count": 4,
      "outputs": [
        {
          "output_type": "stream",
          "name": "stdout",
          "text": [
            "enter the plaintext: attack postponed until two am\n",
            "enter the key: 4312567\n",
            "ciphertext / encryptedtext is  aktdiot p l tpou aaonntmcsetw\n"
          ]
        }
      ]
    }
  ]
}