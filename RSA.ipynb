{
  "nbformat": 4,
  "nbformat_minor": 0,
  "metadata": {
    "colab": {
      "provenance": [],
      "authorship_tag": "ABX9TyPK9SrQ+hx/dNBRZxnUelO+"
    },
    "kernelspec": {
      "name": "python3",
      "display_name": "Python 3"
    },
    "language_info": {
      "name": "python"
    }
  },
  "cells": [
    {
      "cell_type": "code",
      "source": [
        "import math\n",
        "def GCD(a, b):\n",
        "  if a == 0:\n",
        "    return b\n",
        "  return GCD(b%a, a)\n",
        "def RSA(p, q, msg):\n",
        "  n = p*q\n",
        "  phi = (p-1)*(q-1)\n",
        "  e = 2\n",
        "  while(e < phi):\n",
        "    if(GCD(e, phi) == 1):\n",
        "      break\n",
        "    else:\n",
        "      e += 1\n",
        "  k = 2\n",
        "  d = (1 + (k*phi))/e\n",
        "  print(\"public key: \",e)\n",
        "  print(\"pvt key: \",d)\n",
        "  CT = pow(msg, e)\n",
        "  CT = math.fmod(CT, n)\n",
        "  print(\"encrypted msg is \", CT)\n",
        "\n",
        "  PT = pow(CT, d)\n",
        "  PT = math.fmod(PT, n)\n",
        "  print(\"decrypted msg is \",PT)"
      ],
      "metadata": {
        "id": "bucK3_4hCWUB"
      },
      "execution_count": 20,
      "outputs": []
    },
    {
      "cell_type": "code",
      "source": [
        "text = int(input(\"enter the msg: \"))\n",
        "p = int(input(\"enter first prime num: \"))\n",
        "q = int(input(\"enter second prime num: \"))\n",
        "RSA(p, q, text)"
      ],
      "metadata": {
        "colab": {
          "base_uri": "https://localhost:8080/"
        },
        "id": "ELVwc4IqD_sn",
        "outputId": "f47503fc-c25c-4516-a101-6ae6936675d8"
      },
      "execution_count": 22,
      "outputs": [
        {
          "output_type": "stream",
          "name": "stdout",
          "text": [
            "enter the msg: 12\n",
            "enter first prime num: 3\n",
            "enter second prime num: 7\n",
            "public key:  5\n",
            "pvt key:  5.0\n",
            "encrypted msg is  3.0\n",
            "decrypted msg is  12.0\n"
          ]
        }
      ]
    }
  ]
}