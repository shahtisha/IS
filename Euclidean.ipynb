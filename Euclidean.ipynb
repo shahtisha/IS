{
  "nbformat": 4,
  "nbformat_minor": 0,
  "metadata": {
    "colab": {
      "provenance": [],
      "authorship_tag": "ABX9TyOLexsWhdxTHuCSnmHXkhjU"
    },
    "kernelspec": {
      "name": "python3",
      "display_name": "Python 3"
    },
    "language_info": {
      "name": "python"
    }
  },
  "cells": [
    {
      "cell_type": "code",
      "source": [
        "def euclidean_algo(a, b):\n",
        "  if a == 0:\n",
        "    return b\n",
        "  return euclidean_algo(b%a, a)"
      ],
      "metadata": {
        "id": "arCZs-Fo9t0Q"
      },
      "execution_count": 6,
      "outputs": []
    },
    {
      "cell_type": "code",
      "source": [
        "num1 = int(input(\"enter the first num: \"))\n",
        "num2 = int(input(\"enter the second num: \"))\n",
        "gcd = euclidean_algo(num1, num2)\n",
        "print(f\"GCD of {num1} and {num2} is {gcd}\")"
      ],
      "metadata": {
        "colab": {
          "base_uri": "https://localhost:8080/"
        },
        "id": "TRq9r2P194vz",
        "outputId": "02517e9f-1e04-4125-8367-afdd81ce9dc0"
      },
      "execution_count": 7,
      "outputs": [
        {
          "output_type": "stream",
          "name": "stdout",
          "text": [
            "enter the first num: 3\n",
            "enter the second num: 7\n",
            "GCD of 3 and 7 is 1\n"
          ]
        }
      ]
    }
  ]
}