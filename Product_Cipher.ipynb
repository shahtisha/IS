{
  "nbformat": 4,
  "nbformat_minor": 0,
  "metadata": {
    "colab": {
      "provenance": [],
      "authorship_tag": "ABX9TyOjCtdnvXXmGDZ/vVAPnvQc"
    },
    "kernelspec": {
      "name": "python3",
      "display_name": "Python 3"
    },
    "language_info": {
      "name": "python"
    }
  },
  "cells": [
    {
      "cell_type": "code",
      "source": [
        "def caesar_cipher_encrypt(text,key):\n",
        "  result = \"\"\n",
        "  for char in text:\n",
        "    if char.isalpha():\n",
        "      base = ord('A') if char.isupper() else ord('a')\n",
        "      result += chr((ord(char)- base + key)%26 + base)\n",
        "    else:\n",
        "      result += char\n",
        "  return result\n",
        "\n",
        "def columnar_transposition_encrypt(message,key):\n",
        "  n = len(key)\n",
        "  message = message.replace(\" \",\"\").lower()\n",
        "  message_len = len(message)\n",
        "\n",
        "  padding_len = (n - (message_len % n)) % n\n",
        "  padded_message = message + 'X' * padding_len\n",
        "\n",
        "  grid = [['X'] * n for _ in range(n)]\n",
        "  index = 0\n",
        "  for row in range(n):\n",
        "    for col in range(n):\n",
        "      if index < len(padded_message):\n",
        "        grid[row][col] = padded_message[index]\n",
        "        index += 1\n",
        "\n",
        "  for i in range(n):\n",
        "    print(grid[i])\n",
        "\n",
        "  encrypted_text = \"\"\n",
        "  for col in key:\n",
        "    for row in range(n):\n",
        "        encrypted_text += grid[row][col - 1]\n",
        "\n",
        "  return encrypted_text\n",
        "\n",
        "def product_cipher(message,caesar_key,transposition_key):\n",
        "  substitution = caesar_cipher_encrypt(message,caesar_key)\n",
        "  final = columnar_transposition_encrypt(substitution,transposition_key)\n",
        "  return final\n",
        "\n",
        "print(product_cipher(\"Hello World\",3,[4,1,2,3,5]))"
      ],
      "metadata": {
        "colab": {
          "base_uri": "https://localhost:8080/"
        },
        "id": "euEsuS08XkRJ",
        "outputId": "23822463-abd4-4abc-b96f-f17bcddc91e6"
      },
      "execution_count": 42,
      "outputs": [
        {
          "output_type": "stream",
          "name": "stdout",
          "text": [
            "['k', 'h', 'o', 'o', 'r']\n",
            "['z', 'r', 'u', 'o', 'g']\n",
            "['X', 'X', 'X', 'X', 'X']\n",
            "['X', 'X', 'X', 'X', 'X']\n",
            "['X', 'X', 'X', 'X', 'X']\n",
            "ooXXXkzXXXhrXXXouXXXrgXXX\n"
          ]
        }
      ]
    }
  ]
}