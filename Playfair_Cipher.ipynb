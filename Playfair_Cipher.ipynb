{
  "nbformat": 4,
  "nbformat_minor": 0,
  "metadata": {
    "colab": {
      "provenance": [],
      "authorship_tag": "ABX9TyOakvHkP3wlTsxUbaPSZah9"
    },
    "kernelspec": {
      "name": "python3",
      "display_name": "Python 3"
    },
    "language_info": {
      "name": "python"
    }
  },
  "cells": [
    {
      "cell_type": "code",
      "execution_count": 1,
      "metadata": {
        "id": "FsHziFmJ7qQ1"
      },
      "outputs": [],
      "source": [
        "def generate_playfair_matrix(key):\n",
        "    key = key.upper().replace(\"J\", \"I\")  # Convert to uppercase and replace J with I\n",
        "    alphabet = \"ABCDEFGHIKLMNOPQRSTUVWXYZ\"  # Exclude J\n",
        "    key += alphabet\n",
        "    matrix = []\n",
        "\n",
        "    for char in key:\n",
        "        if char not in matrix:\n",
        "            matrix.append(char)\n",
        "\n",
        "    playfair_matrix = [matrix[i:i + 5] for i in range(0, 25, 5)]\n",
        "    return playfair_matrix\n",
        "\n",
        "def print_playfair_matrix(matrix):\n",
        "    for row in matrix:\n",
        "        print(\" \".join(row))\n",
        "    print()\n",
        "\n",
        "def find_char_coordinates(matrix, char):\n",
        "    for i, row in enumerate(matrix):\n",
        "        if char in row:\n",
        "            return i, row.index(char)\n",
        "\n",
        "def playfair_encrypt(plaintext, key):\n",
        "    matrix = generate_playfair_matrix(key)\n",
        "    ciphertext = \"\"\n",
        "\n",
        "    for i in range(0, len(plaintext), 2):\n",
        "        pair = plaintext[i:i + 2]\n",
        "\n",
        "        if len(pair) == 1:\n",
        "            pair += 'X'\n",
        "\n",
        "        row1, col1 = find_char_coordinates(matrix, pair[0])\n",
        "        row2, col2 = find_char_coordinates(matrix, pair[1])\n",
        "\n",
        "        if row1 == row2:\n",
        "            ciphertext += matrix[row1][(col1 + 1) % 5] + matrix[row2][(col2 + 1) % 5]\n",
        "        elif col1 == col2:\n",
        "            ciphertext += matrix[(row1 + 1) % 5][col1] + matrix[(row2 + 1) % 5][col2]\n",
        "        else:\n",
        "            ciphertext += matrix[row1][col2] + matrix[row2][col1]\n",
        "\n",
        "    return ciphertext"
      ]
    },
    {
      "cell_type": "code",
      "source": [
        "PT = input(\"enter the plaintext: \")\n",
        "key = input(\"enter the key: \")\n",
        "matrix = generate_playfair_matrix(key)\n",
        "print(\"Playfair matrix: \")\n",
        "print_playfair_matrix(matrix)\n",
        "print(\"encrypted text: \",playfair_encrypt(PT, key))"
      ],
      "metadata": {
        "colab": {
          "base_uri": "https://localhost:8080/"
        },
        "id": "ckWrI2677rj-",
        "outputId": "fa280575-b39d-4006-aa29-2b57d40f8e02"
      },
      "execution_count": 2,
      "outputs": [
        {
          "output_type": "stream",
          "name": "stdout",
          "text": [
            "enter the plaintext: ATTACK\n",
            "enter the key: MONARCHY\n",
            "Playfair matrix: \n",
            "M O N A R\n",
            "C H Y B D\n",
            "E F G I K\n",
            "L P Q S T\n",
            "U V W X Z\n",
            "\n",
            "encrypted text:  RSSRDE\n"
          ]
        }
      ]
    }
  ]
}