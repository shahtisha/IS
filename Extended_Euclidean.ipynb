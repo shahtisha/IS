{
  "nbformat": 4,
  "nbformat_minor": 0,
  "metadata": {
    "colab": {
      "provenance": [],
      "authorship_tag": "ABX9TyPk7PK5epJmCnDgtWnMKt5I"
    },
    "kernelspec": {
      "name": "python3",
      "display_name": "Python 3"
    },
    "language_info": {
      "name": "python"
    }
  },
  "cells": [
    {
      "cell_type": "code",
      "source": [
        "def extended_euclidean_algo(a, b):\n",
        "  if a == 0:\n",
        "    return b, 0, 1\n",
        "  gcd, x1, y1 = extended_euclidean_algo(b%a, a)\n",
        "  x = y1 - (b//a)*x1\n",
        "  y = x1\n",
        "  return gcd, x, y"
      ],
      "metadata": {
        "id": "arCZs-Fo9t0Q"
      },
      "execution_count": 10,
      "outputs": []
    },
    {
      "cell_type": "code",
      "source": [
        "num1 = int(input(\"enter the first num: \"))\n",
        "num2 = int(input(\"enter the second num: \"))\n",
        "gcd = extended_euclidean_algo(num1, num2)\n",
        "print(f\"GCD of {num1} and {num2} is {gcd}\")"
      ],
      "metadata": {
        "colab": {
          "base_uri": "https://localhost:8080/"
        },
        "id": "TRq9r2P194vz",
        "outputId": "813e62bc-b195-47f6-d12b-aa73d1ff9789"
      },
      "execution_count": 11,
      "outputs": [
        {
          "output_type": "stream",
          "name": "stdout",
          "text": [
            "enter the first num: 35\n",
            "enter the second num: 15\n",
            "GCD of 35 and 15 is (5, 1, -2)\n"
          ]
        }
      ]
    }
  ]
}