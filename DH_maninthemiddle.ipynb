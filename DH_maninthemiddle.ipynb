{
  "nbformat": 4,
  "nbformat_minor": 0,
  "metadata": {
    "colab": {
      "provenance": [],
      "authorship_tag": "ABX9TyPPrhLzv1Jt+5P/cBkvEPRQ"
    },
    "kernelspec": {
      "name": "python3",
      "display_name": "Python 3"
    },
    "language_info": {
      "name": "python"
    }
  },
  "cells": [
    {
      "cell_type": "code",
      "source": [
        "import random\n",
        "def mod_exp(modulus, base, exponent):\n",
        "  res = 1\n",
        "  base = base % modulus\n",
        "  while exponent > 0:\n",
        "    if exponent % 2 == 1:\n",
        "      res = (res * base)%modulus\n",
        "    exponent = exponent // 2\n",
        "    base = (base * base) % modulus\n",
        "  return res\n",
        "def generate_keypair(p, g):\n",
        "  pvt_key = random.randint(1, p-1)\n",
        "  public_key = mod_exp(p, g, pvt_key)\n",
        "  return pvt_key, public_key\n",
        "def generate_shared_key(public_key, pvt_key, p):\n",
        "  shared_key = mod_exp(p, public_key, pvt_key)\n",
        "  return shared_key\n",
        "def attack(p, g, PuA, PuB):\n",
        "  pvt_key_attacker, public_key_attacker = generate_keypair(p, g)\n",
        "  shared_key_A_attacker = generate_shared_key(PuB, pvt_key_attacker, p)\n",
        "  shared_key_B_attacker = generate_shared_key(PuA, pvt_key_attacker, p)\n",
        "  return shared_key_A_attacker, shared_key_B_attacker\n",
        "\n",
        "p = int(input(\"enter prime: \"))\n",
        "g = int(input(\"enter generator: \"))\n",
        "\n",
        "PvA, PuA = generate_keypair(p, g)\n",
        "print(\"person A's pvt key: \",PvA)\n",
        "print(\"person A's public key: \",PuA)\n",
        "\n",
        "PvB, PuB = generate_keypair(p, g)\n",
        "print(\"person B's pvt key: \",PvB)\n",
        "print(\"person B's public key: \",PuB)\n",
        "\n",
        "PvAttacker, PuAttacker = generate_keypair(p, g)\n",
        "print(\"Attacker's pvt key: \",PvAttacker)\n",
        "print(\"Attacker's public key: \",PuAttacker)\n",
        "\n",
        "A = generate_shared_key(PuB, PvA, p)\n",
        "B = generate_shared_key(PuA, PvB, p)\n",
        "A1, B1 = attack(p, g, PuA, PuB)\n",
        "print(\"shared key calculated by person A: \",A)\n",
        "print(\"shared key calculated by person B: \",B)\n",
        "print(\"shared key calculated by attacker with A: \",A1)\n",
        "print(\"shared key calculated by attacker with B: \",B1)\n",
        "\n",
        "if ((A == A1) and (B == B1)):\n",
        "  print(\"attacker has successfully connected and can easily alter msgs between person A and B\")"
      ],
      "metadata": {
        "colab": {
          "base_uri": "https://localhost:8080/"
        },
        "id": "W9PW_7VdQLZ6",
        "outputId": "74f2bcb6-a1a6-426c-ad0d-02f705fc29fe"
      },
      "execution_count": 40,
      "outputs": [
        {
          "output_type": "stream",
          "name": "stdout",
          "text": [
            "enter prime: 23\n",
            "enter generator: 9\n",
            "person A's pvt key:  6\n",
            "person A's public key:  3\n",
            "person B's pvt key:  4\n",
            "person B's public key:  6\n",
            "Attacker's pvt key:  6\n",
            "Attacker's public key:  3\n",
            "shared key calculated by person A:  12\n",
            "shared key calculated by person B:  12\n",
            "shared key calculated by attacker with A:  12\n",
            "shared key calculated by attacker with B:  16\n"
          ]
        }
      ]
    }
  ]
}