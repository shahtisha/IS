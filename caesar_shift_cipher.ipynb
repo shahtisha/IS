{
  "nbformat": 4,
  "nbformat_minor": 0,
  "metadata": {
    "colab": {
      "provenance": []
    },
    "kernelspec": {
      "name": "python3",
      "display_name": "Python 3"
    },
    "language_info": {
      "name": "python"
    }
  },
  "cells": [
    {
      "cell_type": "code",
      "source": [
        "def shift_cipher_encrypt(plaintext, key):\n",
        "  ciphertext = \" \"\n",
        "  for x in plaintext:\n",
        "    #check character is alphabet letter\n",
        "    if x.isalpha():\n",
        "      shifted_text = chr((ord(x) + key - ord('a'))%26 + ord('a'))\n",
        "      ciphertext += shifted_text\n",
        "    else:\n",
        "      ciphertext += x\n",
        "  return ciphertext"
      ],
      "metadata": {
        "id": "7_mXSsOmI2Fc"
      },
      "execution_count": 24,
      "outputs": []
    },
    {
      "cell_type": "code",
      "source": [
        "PT = input(\"enter the plaintext in lower case: \")\n",
        "key = int(input(\"enter the key: \"))\n",
        "result = shift_cipher_encrypt(PT, key)\n",
        "print(\"encrypted text is\",result)"
      ],
      "metadata": {
        "colab": {
          "base_uri": "https://localhost:8080/"
        },
        "id": "0gZtRDDcKTwp",
        "outputId": "d7fa2a4e-4802-4c77-ba58-26a432191b75"
      },
      "execution_count": 25,
      "outputs": [
        {
          "output_type": "stream",
          "name": "stdout",
          "text": [
            "enter the plaintext in lower case: academy\n",
            "enter the key: 25\n",
            "encrypted text is  zbzcdlx\n"
          ]
        }
      ]
    },
    {
      "cell_type": "code",
      "source": [
        "def shift_cipher_decrypt(ciphertext, key):\n",
        "  plaintext = \" \"\n",
        "  for x in ciphertext:\n",
        "    if x.isalpha():\n",
        "      shifted_text = chr((ord(x) - key - ord('a'))%26 + ord('a'))\n",
        "      plaintext += shifted_text\n",
        "    else:\n",
        "      plaintext += x\n",
        "  return plaintext"
      ],
      "metadata": {
        "id": "QhFE1zMJMHcO"
      },
      "execution_count": 35,
      "outputs": []
    },
    {
      "cell_type": "code",
      "source": [
        "CT = input(\"enter the ciphertext in lower case:\")\n",
        "key = int(input(\"enter the key:\"))\n",
        "result = shift_cipher_decrypt(CT, key)\n",
        "print(\"decrypted text is\",result)"
      ],
      "metadata": {
        "colab": {
          "base_uri": "https://localhost:8080/"
        },
        "id": "24ajwptDMVJu",
        "outputId": "a73c54a1-1def-40c9-f127-38c98ea5dd19"
      },
      "execution_count": 36,
      "outputs": [
        {
          "output_type": "stream",
          "name": "stdout",
          "text": [
            "enter the ciphertext in lower case:zbzcdlx\n",
            "enter the key:25\n",
            "decrypted text is  academy\n"
          ]
        }
      ]
    },
    {
      "cell_type": "code",
      "source": [
        "def brute_force_attack(ciphertext):\n",
        "  for key in range(1, 26):\n",
        "    decrypted_text = shift_cipher_decrypt(ciphertext, key)\n",
        "    print(f\"{key}: {decrypted_text}\")"
      ],
      "metadata": {
        "id": "pQTKzIeXOznW"
      },
      "execution_count": 47,
      "outputs": []
    },
    {
      "cell_type": "code",
      "source": [
        "CT = input(\"enter the ciphertext: \")\n",
        "print(brute_force_attack(CT))"
      ],
      "metadata": {
        "colab": {
          "base_uri": "https://localhost:8080/"
        },
        "id": "XgMXJ4-2PJIE",
        "outputId": "efd69dfb-bdf3-4e06-88f3-7a9c491d150d"
      },
      "execution_count": 48,
      "outputs": [
        {
          "output_type": "stream",
          "name": "stdout",
          "text": [
            "enter the ciphertext: dwwdfn\n",
            "1:  cvvcem\n",
            "2:  buubdl\n",
            "3:  attack\n",
            "4:  zsszbj\n",
            "5:  yrryai\n",
            "6:  xqqxzh\n",
            "7:  wppwyg\n",
            "8:  voovxf\n",
            "9:  unnuwe\n",
            "10:  tmmtvd\n",
            "11:  sllsuc\n",
            "12:  rkkrtb\n",
            "13:  qjjqsa\n",
            "14:  piiprz\n",
            "15:  ohhoqy\n",
            "16:  nggnpx\n",
            "17:  mffmow\n",
            "18:  leelnv\n",
            "19:  kddkmu\n",
            "20:  jccjlt\n",
            "21:  ibbiks\n",
            "22:  haahjr\n",
            "23:  gzzgiq\n",
            "24:  fyyfhp\n",
            "25:  exxego\n",
            "None\n"
          ]
        }
      ]
    }
  ]
}