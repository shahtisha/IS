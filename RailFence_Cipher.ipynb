{
  "nbformat": 4,
  "nbformat_minor": 0,
  "metadata": {
    "colab": {
      "provenance": [],
      "authorship_tag": "ABX9TyOs+GV09rJqLe7qnCII2RZf"
    },
    "kernelspec": {
      "name": "python3",
      "display_name": "Python 3"
    },
    "language_info": {
      "name": "python"
    }
  },
  "cells": [
    {
      "cell_type": "code",
      "source": [
        "def encrypt(text, key):\n",
        "  fence = [['' for _ in range(len(text))] for _ in range(key)]\n",
        "  row, col = 0, 0\n",
        "  direction = 1\n",
        "  for char in text:\n",
        "    fence[row][col] += char\n",
        "    row += n\n",
        "    if row == 0 or row == key-1:\n",
        "      direction = -direction\n",
        "    col += 1\n",
        "  CT = ''.join(''.join(row) for row in fence)"
      ],
      "metadata": {
        "id": "d-yMZCMt_IxU"
      },
      "execution_count": 6,
      "outputs": []
    }
  ]
}